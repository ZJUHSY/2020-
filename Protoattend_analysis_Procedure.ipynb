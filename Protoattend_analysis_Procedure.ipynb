{
 "cells": [
  {
   "cell_type": "code",
   "execution_count": 3,
   "metadata": {},
   "outputs": [],
   "source": [
    "import matplotlib.pyplot as plt\n",
    "import torch.nn.functional as F\n",
    "import torch\n",
    "import torch.nn as nn"
   ]
  },
  {
   "cell_type": "code",
   "execution_count": 9,
   "metadata": {},
   "outputs": [
    {
     "data": {
      "image/png": "[encoded data removed]",
      "text/plain": [
       "<Figure size 432x288 with 1 Axes>"
      ]
     },
     "metadata": {
      "needs_background": "light"
     },
     "output_type": "display_data"
    }
   ],
   "source": [
    "alpha_immediate = [0.7, 0.6, 0.5, 0.4, 0.3, 0.2, 0.1, 0]\n",
    "acc_v = [0.65, 0.7, 0.7, 0.85, 0.84, 0.87, 0.92,0.91]\n",
    "plt.plot(alpha_immediate, acc_v)\n",
    "plt.ylabel('alpha_immediatea')\n",
    "plt.savefig('protoattend_alpha.jpg')"
   ]
  },
  {
   "cell_type": "code",
   "execution_count": 11,
   "metadata": {},
   "outputs": [
    {
     "data": {
      "image/png": "[encoded data removed]",
      "text/plain": [
       "<Figure size 432x288 with 1 Axes>"
      ]
     },
     "metadata": {
      "needs_background": "light"
     },
     "output_type": "display_data"
    }
   ],
   "source": [
    "spars_w = [0.0001, 0.0005, 0.001, 0.005, 0.01, 0.05, 0.1]\n",
    "acc_v = [0.7, 0.75, 0.77, 0.82, 0.82, 0.83, 0.85]\n",
    "plt.plot(spars_w, acc_v)\n",
    "plt.ylabel('sparsity weight')\n",
    "plt.savefig('spars_w.jpg')"
   ]
  },
  {
   "cell_type": "markdown",
   "metadata": {},
   "source": [
    "# Get Protoattend Results Explain"
   ]
  },
  {
   "cell_type": "code",
   "execution_count": 31,
   "metadata": {},
   "outputs": [],
   "source": [
    "import numpy as np\n",
    "import json\n",
    "# np.argsort([4,2,3,1])\n",
    "pred_res = torch.load(\"./proto_vis/pred\")\n",
    "cand_weight = torch.load(\"./proto_vis/cand_weight\")\n",
    "pred = np.array(pred_res)\n",
    "cand_weight = np.array(cand_weight.detach())\n",
    "#load dev data\n",
    "inp = open(\"dev.json\", \"r\", encoding=\"utf-8\")\n",
    "dev_passages = json.load(inp)\n",
    "inp.close()\n",
    "#load candidate data\n",
    "inp = open(\"train_cand.json\", \"r\", encoding=\"utf-8\")\n",
    "cand_passage = json.load(inp)\n",
    "inp.close()"
   ]
  },
  {
   "cell_type": "code",
   "execution_count": 102,
   "metadata": {},
   "outputs": [
    {
     "data": {
      "text/plain": [
       "'智能合约能解决诸多问题，但它们本身却似乎问题缠身。EOS中存在的RAM致命漏洞和原因一度成为币圈头条，一周后，一家代码审核公司揭示了智能合约中普通存在漏洞的现象。安全公司Hosho与社区管理公司Amazix的最新合作发现，每四个智能合约项目中就有一个存在严重的漏洞。10亿美元并不能保证不出现漏洞10亿美元——这是Hosho审计过的智能合约项目所筹集的资金数额。这家安全公司声称，它审计的智能合约比审计过的其他行业公司都要多。尽管这些项目有大量的人力和财力资源可供使用，但如果他们忽视对其代码进行彻底审查，他们中的许多项目将会陷入瘫痪。Hosho审计过的项目中，有四分之一被发现存在严重的漏洞，大约60%的项目至少存在一个安全问题。ICO项目的启动平台以太坊受到的影响最为严重，其中存在的大量可利用代码导致数亿美元的以太币被窃取或锁定。虽然像Stratis这样的智能合约平台正在推动使用C#来调试部署套件和专业反编译器的可用性，但是以太坊的图灵完备（Turing-complete）系统为漏洞留下了更大的余地。识别和消除所有潜在的安全漏洞是一项永无休止的的任务，即使是经验丰富的可靠开发人员也很难做到这一点。获得专门从事智能合约审计的第三方的支持，虽然不能确保万无一失，但却是避免发布漏洞丛生代码的最好办法。智能合约测试服务虽然行业惯例是在代币发售前对智能合约进行审计，但尚未筹集资金的项目可能会尝试走捷径，在这一程序上节省开支。然而，这样的做法可能是致命的，因为最恶性的漏洞会导致钱包被洗劫一空，而通过操纵缓冲区溢出漏洞可以更改帐户余额。数个基于以太坊的项目在执行第一次智能合约时就搞砸了，然后被迫进行代币替换。在EOS方面，本周所有的精力都集中在修复最近发现的RAM漏洞上。这个漏洞允许恶意用户“在他们的帐户上设置代码，这样他们就可以以另一个账户的名义插入执行向他们发送代币的代码行。”当DAPP/用户向它们发送代币时，他们可以在行中插入大量无用数据，从而锁定RAM。Amazix是加密货币经济领域内一家卓越的社区管理和咨询公司，现已与Hosho合作，为客户提供智能合约审计服务。Amazix首席营销官肯尼思•贝尔森（KennethBerthelsen）说道：“在缺乏行业标准的情况下，我们认为智能合约审计和渗透测试是确保区块链系统良好安全性的重要组成部分。在我们看来，没有谁比Hosho的工程师更有资格做这件事的了。”加密货币的拥趸者们认为，智能合约最终会渗透到从保险到纠纷解决等服务的方方面面中来。在此之前，在治理智能合约的代码上建立信任至关重要。'"
      ]
     },
     "execution_count": 102,
     "metadata": {},
     "output_type": "execute_result"
    }
   ],
   "source": [
    "dev_passage"
   ]
  },
  {
   "cell_type": "code",
   "execution_count": 65,
   "metadata": {},
   "outputs": [
    {
     "name": "stdout",
     "output_type": "stream",
     "text": [
      "0 0\n"
     ]
    }
   ],
   "source": [
    "import random\n",
    "idx = random.randint(0, 159)\n",
    "pred_res = pred[idx]\n",
    "dev_passage = dev_passages[idx]['passage']\n",
    "dev_label = dev_passages[idx]['label']\n",
    "print(dev_label, pred_res)\n",
    "cur_weight = cand_weight[idx]\n",
    "sort_idx = np.argsort(cur_weight)[::-1]\n"
   ]
  },
  {
   "cell_type": "code",
   "execution_count": 66,
   "metadata": {},
   "outputs": [
    {
     "data": {
      "text/plain": [
       "'智能合约能解决诸多问题，但它们本身却似乎问题缠身。EOS中存在的RAM致命漏洞和原因一度成为币圈头条，一周后，一家代码审核公司揭示了智能合约中普通存在漏洞的现象。安全公司Hosho与社区管理公司Amazix的最新合作发现，每四个智能合约项目中就有一个存在严重的漏洞。10亿美元并不能保证不出现漏洞10亿美元——这是Hosho审计过的智能合约项目所筹集的资金数额。这家安全公司声称，它审计的智能合约比审计过的其他行业公司都要多。尽管这些项目有大量的人力和财力资源可供使用，但如果他们忽视对其代码进行彻底审查，他们中的许多项目将会陷入瘫痪。Hosho审计过的项目中，有四分之一被发现存在严重的漏洞，大约60%的项目至少存在一个安全问题。ICO项目的启动平台以太坊受到的影响最为严重，其中存在的大量可利用代码导致数亿美元的以太币被窃取或锁定。虽然像Stratis这样的智能合约平台正在推动使用C#来调试部署套件和专业反编译器的可用性，但是以太坊的图灵完备（Turing-complete）系统为漏洞留下了更大的余地。识别和消除所有潜在的安全漏洞是一项永无休止的的任务，即使是经验丰富的可靠开发人员也很难做到这一点。获得专门从事智能合约审计的第三方的支持，虽然不能确保万无一失，但却是避免发布漏洞丛生代码的最好办法。智能合约测试服务虽然行业惯例是在代币发售前对智能合约进行审计，但尚未筹集资金的项目可能会尝试走捷径，在这一程序上节省开支。然而，这样的做法可能是致命的，因为最恶性的漏洞会导致钱包被洗劫一空，而通过操纵缓冲区溢出漏洞可以更改帐户余额。数个基于以太坊的项目在执行第一次智能合约时就搞砸了，然后被迫进行代币替换。在EOS方面，本周所有的精力都集中在修复最近发现的RAM漏洞上。这个漏洞允许恶意用户“在他们的帐户上设置代码，这样他们就可以以另一个账户的名义插入执行向他们发送代币的代码行。”当DAPP/用户向它们发送代币时，他们可以在行中插入大量无用数据，从而锁定RAM。Amazix是加密货币经济领域内一家卓越的社区管理和咨询公司，现已与Hosho合作，为客户提供智能合约审计服务。Amazix首席营销官肯尼思•贝尔森（KennethBerthelsen）说道：“在缺乏行业标准的情况下，我们认为智能合约审计和渗透测试是确保区块链系统良好安全性的重要组成部分。在我们看来，没有谁比Hosho的工程师更有资格做这件事的了。”加密货币的拥趸者们认为，智能合约最终会渗透到从保险到纠纷解决等服务的方方面面中来。在此之前，在治理智能合约的代码上建立信任至关重要。'"
      ]
     },
     "execution_count": 66,
     "metadata": {},
     "output_type": "execute_result"
    }
   ],
   "source": [
    "dev_passage"
   ]
  },
  {
   "cell_type": "code",
   "execution_count": 68,
   "metadata": {},
   "outputs": [
    {
     "data": {
      "text/plain": [
       "array([71, 94,  2, 21, 67, 99, 31, 25, 35,  4, 24, 91, 97, 79, 51, 57, 15,\n",
       "        7, 89, 29,  8, 39, 82, 46, 27,  1,  5, 69, 96, 87, 33, 63, 92,  0,\n",
       "       81, 32, 11, 50, 10,  6, 17, 44, 42,  3, 26, 73, 22, 43, 75, 12, 77,\n",
       "       98, 19, 30, 38, 16, 95, 64, 20, 13, 80, 56, 54, 47, 61,  9, 23, 40,\n",
       "       86, 41, 37, 49, 18, 45, 59, 65, 78, 62, 76, 14, 74, 85, 68, 36, 83,\n",
       "       88, 28, 52, 48, 70, 58, 55, 60, 84, 90, 72, 34, 93, 66, 53],\n",
       "      dtype=int64)"
      ]
     },
     "execution_count": 68,
     "metadata": {},
     "output_type": "execute_result"
    }
   ],
   "source": [
    "sort_idx"
   ]
  },
  {
   "cell_type": "code",
   "execution_count": 67,
   "metadata": {},
   "outputs": [
    {
     "data": {
      "text/plain": [
       "array([2.75756359e-01, 2.34171361e-01, 1.41801760e-01, 6.74343407e-02,\n",
       "       4.59021851e-02, 3.95764410e-02, 3.60079817e-02, 3.18929069e-02,\n",
       "       2.13568639e-02, 1.52770272e-02, 1.30011979e-02, 8.89877789e-03,\n",
       "       8.60927813e-03, 8.49493034e-03, 8.13012011e-03, 7.03250756e-03,\n",
       "       6.20575761e-03, 5.10380650e-03, 4.99736378e-03, 4.57587373e-03,\n",
       "       3.42880725e-03, 3.24476813e-03, 2.20727245e-03, 1.33507699e-03,\n",
       "       7.57553615e-04, 6.57732890e-04, 6.35170494e-04, 4.85204597e-04,\n",
       "       4.47766855e-04, 3.75751551e-04, 2.15299093e-04, 2.06811237e-04,\n",
       "       1.95285946e-04, 1.95179906e-04, 1.84022691e-04, 1.29642140e-04,\n",
       "       1.22215453e-04, 9.95670998e-05, 6.93222901e-05, 6.09154231e-05,\n",
       "       5.97374419e-05, 4.33958812e-05, 3.33325188e-05, 3.33254284e-05,\n",
       "       3.16268961e-05, 3.11271251e-05, 2.85482511e-05, 2.68046151e-05,\n",
       "       2.52553273e-05, 2.29803300e-05, 2.18004770e-05, 2.12353389e-05,\n",
       "       1.74722627e-05, 1.64810881e-05, 1.57214890e-05, 1.51437553e-05,\n",
       "       1.44669839e-05, 1.43983152e-05, 1.38723799e-05, 1.31958386e-05,\n",
       "       1.28174534e-05, 1.26144059e-05, 1.19033948e-05, 1.11353265e-05,\n",
       "       1.04606024e-05, 9.80548248e-06, 9.64413175e-06, 9.21719766e-06,\n",
       "       9.09170103e-06, 8.98322651e-06, 8.10917754e-06, 7.97771008e-06,\n",
       "       7.86089095e-06, 7.37365963e-06, 7.04472359e-06, 6.59197258e-06,\n",
       "       5.73455600e-06, 5.05927528e-06, 4.87867192e-06, 4.81638290e-06,\n",
       "       4.50870903e-06, 4.42677629e-06, 3.35621962e-06, 3.19811397e-06,\n",
       "       3.19383753e-06, 3.06931088e-06, 2.80846052e-06, 2.79791675e-06,\n",
       "       2.78739958e-06, 2.45626848e-06, 2.45108549e-06, 2.30096157e-06,\n",
       "       2.13675366e-06, 1.93512369e-06, 1.74817194e-06, 1.70405269e-06,\n",
       "       1.51288361e-06, 1.08288600e-06, 1.00490797e-06, 2.93128977e-07],\n",
       "      dtype=float32)"
      ]
     },
     "execution_count": 67,
     "metadata": {},
     "output_type": "execute_result"
    }
   ],
   "source": [
    "cur_weight[sort_idx]"
   ]
  },
  {
   "cell_type": "code",
   "execution_count": 74,
   "metadata": {},
   "outputs": [
    {
     "data": {
      "text/plain": [
       "array([0.27575636, 0.23417136, 0.14180176], dtype=float32)"
      ]
     },
     "execution_count": 74,
     "metadata": {},
     "output_type": "execute_result"
    }
   ],
   "source": [
    "cur_weight[tmp]"
   ]
  },
  {
   "cell_type": "code",
   "execution_count": 106,
   "metadata": {},
   "outputs": [
    {
     "name": "stdout",
     "output_type": "stream",
     "text": [
      "{'passage': '爱喜鸥、虚拟货币交易乱象严重扰乱了市场秩序，监管部门不得不重拳出击。不仅如此，BAT这些平台级公司也渐渐感受到了压力，极力与之撇清关系。继腾讯、阿里巴巴两大互联网巨头清退数字货币场外支付渠道后，百度也紧随其后，开始了对币圈的全面封锁。记者注意到，之前热闹非凡的“币圈吧”“数字货币吧”“虚拟货币吧”等贴吧目前已经被百度官方全部封禁，甚至连一些“发币”项目方的贴吧也是不见踪影，“韭菜”们交流讨论的阵地如今已是越来越少。在很长的一段时间，百度贴吧是除微信群之外投资者最主要的线上交流聚集地。里面充斥着发币方的宣传信息、第三方机构的灌水炒作、新老韭菜们的炒币经验……鱼龙混杂、泥沙俱下，各种币圈乱象在这里展现得淋漓尽致。网友爆料，不管是百度贴吧还是微信群，里面所谓的“炒币干货”基本上没有任何参考价值，他们只不过是抓住投资者的心理，通过各种诱导性的内容来让散户们“上车”，目的很简单，纯粹是为了收割韭菜。“他们平时会花很多的精力来维护贴吧的信息，就跟维护媒体等宣传渠道一样，不惜下重金往正面宣传。有时还要装作很客观的样子，不做任何评判，就是为了让更多人相信，使更少的负面信息流出。”有相关交易所的负责人道出了实情。目前从法律角度来讲，百度贴吧上这样的广告设计和投放还不能作为违法的依据，但作为一个社会影响力极大的开放平台，百度官方此次主动出击，很明显是一种明哲保身的睿智之举。联想到前不久腾讯、阿里的相关举措，可见虚拟数字货币对这些大公司来说俨然成了“烫手的山芋”。前不久，腾讯官方发布“整治爱喜鸥、虚拟货币乱象”声明。称公司已在支付渠道上采取三项整治措施：限制问题平台收款帐号的收款功能，禁止其使用微信支付进行虚拟货币交易收款；限制个人卖家帐号的收款额度，仅满足日常社交业务使用，限制虚拟货币相关交易收款。目前已完成所有使用商户号进行虚拟货币交易的清理；对日常交易进行实时监控，根据监控结果对命中的交易进行风险严重程度评估，或将采取直接拦截措施。同时，阿里巴巴旗下的蚂蚁金服也表示：一直以来，支付宝对于商户涉及虚拟货币交易的，会坚决予以清退；对于个人账户涉嫌虚拟货币交易的，根据情节坚决采取限制账户收款功能甚至永久限制收款等处理措施。两大金融服务巨头同时开展虚拟货币的风险预防计划，向用户宣传与虚拟货币相关的虚假宣传的危险性，如今随着百度的正式加入，可见中国互联网行业的顶级巨头对虚拟货币的态度越来越谨慎，也意味着加密数字货币市场面临着一次更严重的打击。不过值得注意的是，就在BAT三巨头纷纷加密数字货币表明立场、划清界限之后，部分投资者在项目方的指引下通过”科学上网”来到境外交流软件，越来越复杂的操作流程背后，酝酿着更大的风险。BAT对加密数字货币的强硬态度，是出于自身风险考虑后的明智之举，也是作为现象级平台所以必须具备的义务和责任。随着三巨头的插足，加密货币市场定会继续降温，投资人的数字资产风险也必定越来越大，是时候考虑及时抽身了。', 'label': 0}\n",
      "{'passage': '没有数字资产你还能活下去吗？对比特币的支持者来说，比特币是一种毒品，从他们发现它的那一天起，就一直让他们上瘾。但并不是所有的持有者都有同样的感受。受到巨额亏损和数字资产正在占据他们生活的现实刺激，一些投资者被迫永远离开。当音乐停止时，继续前进留言板上的忏悔开始了:“在隐名簿里呆了5年之后，我出来了。”“昨天的车祸太残忍了，当我今天早上醒来的时候，有一件事改变了我的想法。我不想拿薪水，但我会的。我要找份工作，和那些被我忽视的朋友们一起出去玩，做个社会的“绿帽子”。完全放弃数字资产的前景——它所代表的一切以及随之而来的文化——对大多数人来说都是一种诅咒。数字资产就像支持你的足球队;不是你选择的东西，而是强加于你的东西。购买比特币类似于加入黑手党:一旦你加入，你就会终生受益。但生活并不总是善解人意的，对一些人来说，被自己的贪婪或糟糕的决策所诅咒，数字资产可能成为他们脖子上的沉重负担，比最沉重的牛郎星还要沉重。数字资产交易是个很难改掉的习惯很少有人会为那些为了利益而来的人流泪，他们被烧伤了，然后又跑回了他们来的地方。剩下的人，撇开所有的迷因不谈，将在IT领域为技术和金融自由数字资产所提供的，将不会有任何进展。值得注意的是，并不是所有打算放弃“好船密码”的人都这么做是因为他们得到了rekt。有些人只是太沉迷其中。“我开始考虑几个月后做什么了，”一位自由职业者承认，他正在考虑退出策略。他已经在数字资产领域全职工作了6个月，每天工作时间都很长，他开始感到压力。尽管自2013年以来一直沉迷于比特币，但被迫每天24小时不间断地吃饭、睡觉和聊天，还是让比特币付出了代价。那些牺牲一切的人新的研究试图消除女性比男性更厌恶风险的观点。这可能是事实，但至少从趣闻轶事来看，数字资产交易的退出者绝大多数是男性。虽然匿名留言板海报和冒名电报用户的愤怒退出故事难以证实，但总体而言，故事情节是清楚的：由于经济或心理健康原因，越来越多的男性寻求彻底分手。“我刚刚计算了我的损失，两个月内损失了76%，感觉像要退出圈子了，”一条在臭名昭著的RektPlebs电报上写道。另一位网友写道:“我真的不需要数字资产了。”许多在《魔兽世界》中丧生多年的人也曾遭遇过类似的命运，这并非巧合。在这些追求中，为奖励机制提供动力的多巴胺冲动是相同的。一个严重的上瘾“我对这些狗屎上瘾了，”一开始提到的那张海报承认道。“我需要离开，做点别的事情，就像《魔兽世界》5-6年前的样子，数字资产主宰着我的日常生活。”这是不健康的，而且会破坏与朋友和家人的关系;在心理上，它也在付出代价。也许我会只是休息一下，但在这一点上不打算回来一段时间。密码是我的嗜好，我需要把它拿出来阻止一个恶性循环。至于他的投资组合，他回忆道：在我的巅峰时期是180k，现在是10k，一路兑现了25k。如果我再回到那里，我就不知道该怎么处理180k了。可怕的。但是我学到了很多重要的东西。我想我该对董事会说再见了，过去两年，董事会一直让我乐在其中。自我加入CBA以来，我在ETH&MKR留下了40美元现金。在钱包的私钥被公布的几分钟内，它的弹片就被一个心怀感激的家伙拿空了。人类的习惯是强迫性的。我们倾向于100%或者完全不去做事情。这就是为什么男人会一周6天都在健身房锻炼，或者一动不动地坐在沙发上，而女人则在节食和暴饮暴食之间摇摆不定。数字资产，就像生活中所有最好的东西一样，最好的享受是适度的，但说起来容易做起来难。当数字资产开始占据Tradingview时，大多数人都有能力远离它。但对于那些难以控制冲动的人来说，彻底摆脱数字资产可能是唯一的选择。在熊市的深渊中走开是一回事。下一轮牛市到来时，远离股市可能又是另一回事了。', 'label': 0}\n",
      "{'passage': '七月在野，八月在宇，九月在户，十月都在裁员。气温一点点降低，区块链行业也一步步临近冰点。从业者难以幸免。项目方、交易所、服务该行业的周边公司都头顶着倒闭的风险；数以万计的从业者身处降薪或被裁的窘境；TokenFund近乎停滞，募资已不在乎是ETH还是法币；散户哀嚎，维权的故事每天都在上演。问世9年，区块链以及数字货币再一次经历经济周期的洗礼，只是这一次殃及的范围似乎更广一些。相同的故事在新的周期再一次上演，区块链Truth选择记录下他们的故事，寻找背后的原因，希望给后来者以警醒，给前行者以希望。降薪，裁员李鸿飞满心欢喜来办入职，却被给了当头一棒。他准备加入的是一家钱包公司，在业内颇有名气。本来是一份相当靠谱的工作，但签约当天，谈好的年薪从25万骤降到15万，这样的待遇，比他上一份工作还降了40%。李鸿飞心有不甘，这不是钱包公司第一次提出降薪的要求。起初，李鸿飞要价年薪30万，比上一份工资涨幅20%，这本是大多人离职跳槽时正常的薪资浮动水平，但钱包公司却不能接受。“要得太高了，他们拒绝安排面试。”负责对接的猎头表示。双方商议之后，年薪降了5万，面试才提上议程，在经历了长达两个月寻找“下家”的“闲暇”时光后，李鸿飞不得不接受这个offer。但在入职那一刻，钱包公司提出的新要求还是让他有点惊讶。李鸿飞没有更好的选择。“现在的行情是，许多公司都在裁员或者倒闭。”一位不愿具名的区块链创业者坦言。对比之下，能找到工作，李鸿飞已算幸运。想到自己肩上的经济压力，他硬着头皮接受了不合理的要求。李鸿飞勉强度过了危险期，但更多的人仍在被裁的边缘徘徊，汤哲便是其中之一。一周前，汤哲所在的区块链公司刚刚裁掉了成都分部的5个员工。为弥补员工，公司给了每个人发放了半个月工资的补偿。消息传到北京，汤哲有些担忧。“我们这边还没有动静。不过我猜裁员是肯定要走到的一步。”言语中，汤哲似乎已经预见了未来不可避免的结果。她得多为自己想想，“听到消息，我赶紧去查了劳动局章程，里面规定员工在工作半年不到一年的情况下如被裁员，公司需按照1个月的工资标准赔偿”。汤哲所在的公司是一家区块链媒体，成立半年有余。这是一条拥挤的赛道，据相关数据统计，今年年初仅仅3个月便有数百家区块链媒体冒出来。虽然没有明确的盈利模式，但依托行业红利，一些媒体靠着软文在牛市赚了第一桶金。200多家区块链媒体，谁能笑到最后行业鱼龙混杂，自然没什么规矩。汤哲所在的媒体也饱受诟病。有人说他们就是写黑稿的，想要撤稿就得收费，“名声出去了，到处都是项目找他们撤稿”。谩骂声一片，这家区块链媒体却不断壮大，从年初的10余人扩张到80多人，一派欣欣向荣的景象。如今，行业下行，本身缺乏过硬商业模式的媒体最先迎来倒闭潮。“你看很多知名的区块链自媒体，也都融资百万级甚至千万级，但上次更新文章已经是一个月以前了。”区块链行业从业者柯龙表示。某家流量还不错的媒体，其创始人公开表示：由于退掉了之前大批投资款，公司一下到了一个尴尬的处境，他们不得已开启了软文服务、全案服务，开源节流，让自己此前精心挑选、招募而来的同事离开。突然之间，高歌逝去，行业骤冷。降薪和裁员成了应对寒冬最直接，也是看上去最立竿见影的方法。大公司未曾幸免即便是处于食物链顶端的交易所也难逃此劫。8月28日，打着改革幌子的Fcoin再一次被推上风口浪尖。网上流传的截图显示，Fcoin已解散了市场部、品牌部，连产品研发部门也在大幅度裁员，其原本的办公地址早已人去楼空。彼时，Fcoin声称消息是谣言，属于恶意中伤。如今看来，当时的传言并非子虚乌有。“8月，Fcoin一大批人更新简历、投简历、找工作。”一位熟悉交易所的猎头对区块链Truth表示。这几乎证实了此前盛行的种种传闻，“这帮人一捡一大把”，猎头坦言。Fcoin日渐式微，张健的老东家火币看上去风光无限。它从600人扩张到800人，又一度壮大到1300多人，更是一度传出要上市的喜讯。1300人的规模在三大交易所中算得上顶配，其人数是OK公司的近4倍。数字货币交易所遍布全球这样庞大的团队怕是维持不了多久。区块链Truth算了一笔账：如果月薪按照15000元/人估算，火币每月需要负担近3000万元（包含社保公积金等）的工资成本。倘若根据Coinmarketgap公布的数据，火币如今每天仍有800多万的手续费收益，自然能支付如此高额的工资。但现实是，“火币和OK的真实单量并不多”，一位对交易所颇有研究的人士表示。刷量早就成为公开的秘密。区块链透明度研究所（BTI）8月25日发布的报告显示，全球130家交易所有超过60亿美元的日交易额被伪造，占24小时交易额的三分之二以上。早有媒体报道称：在交易所头部阵营中，真实日活能达到1000的都很少，火币的真实日活其实也只有几千人。交易所需要维持虚假的繁荣以吸引用户，因此必须要刷量。同时，这也让他们的获客成本持续升高，“获客成本（入金用户）一个就要七八千”。开源不行，只能节流。因此，有传言称火币即将开始大规模裁员，要裁掉二分之一员工。裁员之外，巨头们还在探索其他途径。9月17日，迅雷公开出售其区块链业务链克。近3亿元的研发费用却仅仅换来478.5万元净利润（今年第二季度），迅雷不得不减负。小到几十人的区块链媒体，大到上千人的交易所，都在以不同的方式挣扎。而从巅峰到谷底仅仅用了半年时间，坠落的速度令人惊愕，衰败何时初现？狂欢的巅峰，衰败的起点狂欢的顶峰亦是衰败的起点，盛极而衰，是简单而又真切的道理。狂欢起，数字货币价格疯涨。比特币一度从去年年初的900多美元上涨到18000多美元，ETH也从去年年初的8美元飙升到1300多美元，涨势一发不可收拾，一扫2016年熊市阴霾。一切在2018年春节达到顶峰。在汇集了币圈大佬的三点钟群里，区块链被以物理学、生物学、社会学、经济学、哲学等各种角度解读。在怪力乱神的时刻，大佬们的焦虑被点燃。百合网创始人慕岩在三点钟群里公开唱反调。“现在和1998年、2000年互联网泡沫时期太像了，基础设施还没完善，用户端认知还没建立，至少三五年后才是多数应用类项目最佳启动时间，现在启动的很可能是先烈。”但很多人甘愿做“先烈”，热钱哗一下子涌了进来，就像失控的水龙头。根据CoinDesk数据显示，仅仅2018年第一季度，ICO全球资金为63亿美元；而2017年全年，ICO全球筹集的资金为53.38亿美元。那些经历过比特币周期的人感觉到了不对劲儿。“我的合伙人赵东经历过大的周期，对流动性非常敏感，当时他就跟大家说熊市来了，都别瞎折腾了。”DFund合伙人杨林苑表示，“创业者和TokenFund大部分都是春节后进来的，投资人有一个典型的顾虑是怕被落下，看到别人赚钱，比自己亏了钱还难受”。期望达到峰值，便是低谷的开端于是，TokenFund遍地开花。AutonmousNext公司今年2月的统计数据显示，加密货币的对冲基金已经超过230个，管理资产总额超50亿美元。与此同时，传统VC也相中了这块香饽饽，薛蛮子一个月投资了20多个区块链项目，徐小平振臂一呼——创业者不要迟疑立即拥抱这场革命，而其本身也开始投资各种区块链项目。创业者趋之若鹜。一家原本做无人货架的项目悄然转身拥抱区块链，希望借此解决货损；一家为公众号运营者服务的互助化推广平台转型区块链，希望解决数据孤岛问题。他们都在奔忙，他们必须加快速度，赶在牛市结束前完成收割。聪明人都不愿意听劝，不知道他们是失去了理智，还是本来就只想收割。也有一些人放弃了稳定的工作，踏入了一天一个样的币圈。一位华为员工也加入了这股潮流，他在项目方负责运营工作，准备两个月内ICO，募资千万元。结果，他并没有成功，如今又回了华为。嗅觉敏锐的聪明人开始刻意放慢速度。“我们从那个时候开始，投资就比较谨慎了。”杨林苑坦言。没经历过周期的小白依旧疯狂加速，他们在加密货币的世界中不眠不休，混浊的眼球散发无尽的欲望，眼中的红血丝是心中对人民币的奢望。很快，冰冷的现实让他们仓皇失措。压倒项目方的稻草们泡沫筑起的高楼一点点坍塌。衰败最先反映到币价上。比特币价格从18000美元跌到6400美元，跌幅高达64%。ETH价格从1300多美元跌到220美元左右，跌幅高达83%。破发率轰然上升。据统计，2018年1月1日起至6月30日，OKEx、火币HADAX的项目破发率均为100%，币安的破发率超过95%，火币Pro的破发率为98.24%，KuCoin的破发率为99.02%。恐慌的情绪传递到散户身边，募资越来越难。据统计，Q2ICO募集资金总额为48.32亿美元，较Q1减少约28亿美元，降幅达到55.06%。二级市场募资骤减，一级市场几乎停滞。有媒体曾公开报道称，现在TokenFund闲得没事干，他们抛弃了募资头牌ETH，或对标USTD，或收取BTC，或直接收法币。只要能换成钱的，来者不拒。TokenFund真的没钱了么？在动吧体育董事长、vSport体育区块链联合创始人白强看来，一些基金可能还有钱，但是不敢投了，识别好项目的成本太高了。原来他们跟风投资赚到了钱，现在就开始跟逆风不投资。项目方还要继续运转。“项目方需要资金来支撑团队，但是那些原本没有实体业务的，仅为区块链发币而产生的项目方本身可能就没有钱，只能卖ETH换成法币来支撑业务发展。”白强表示。恶性循环就此开始。由于ETH价格越来越低，项目方需要不断抛售更多的ETH来维持基本运营，随着ETH价格持续下跌，行业越来越恐慌。发币成功的尚可依靠出售ETH勉强维持，那些没来得及发币的项目则一筹莫展。“做项目的你如果没发成币，一下就没钱了，有个找工作的人跟我说，他们的项目2个月没发工资了。”一位猎头表示。为维持运转，项目方开始裁员招人变得谨慎了。“以前打算发的offer，现在开始慎重了。比如原来想招10个人，现在可能得缩减到2个。”区块链从业者杨怀远对表示。刚刚入职的员工也需要做出妥协和让步。“本来这些人是薪水翻了2倍，甚至3、4倍过来的，但现在大家就要协商，比如工资变成上一份工作工资的120%-150%，就是一个正常跳槽的薪水待遇。”杨怀远坦言。降薪起码保住了工作，裁员或许是项目方能够抓到的最后一根稻草。“我们对职能类的人员，比如财务、人事、行政等，以及一些不能直接变现或者转型的岗位，都做了调整。”某区块链项目CEO坦言。“肯定要先裁中层偏teamleader这一层。这些人工资较高，但不承担实际的工作。最底层干活的员工哪怕是个客服，每天还要接电话，且工资较低。”一位区块链项目创始人表示。一位不愿具名的投资人称，自己投的项目，有的在裁员，有的没裁，但招聘要求比原来更高。项目方显然想找到更优秀的人才，让自己付出的薪资值当。混乱与规则他们的想法似乎有些天真了。“以前做理财的、保险的、三流网站的编辑都过来了。一些三流编辑到了区块链就能做个PR高级经理。”对于从业者的基本素质，猎头张明朗连连感叹。他用“好玩”来形容在币圈的见闻。一个偏商务的项目经理，没有投资案例，资历尚浅，想转行做VC。在原本的互联网行业，想完成这样的“蜕变”怕是很难。但到了币圈，项目经理成功逆袭，成为了某某资本的合伙人。让人大跌眼镜的不止如此。“一个之前工作都找不到的小姑娘，在币圈现在成了一个公司的CEO了。”张明朗的语气中夹杂着诧异。过去几个月，在区块链行业见到的一切，正在一步步摧毁这位老猎头多年积累的经验和常识。在人才链创始人张书霖看来，区块链行业的从业者主要有三类人：一类是来自金融行业，一类是来自互联网行业，一类是来自传统营销行业，“他们之前都不是搞区块链的”。跨行让从业者本身就不具备优势，但即便是从区块链行业挖人，也并非是最佳选择。“他们在圈子里待久了，只想干一件事，就是线上线下聊天和到处去混会。具体到某一件事上，他什么都不想做，你让他写文件，他都不写（大部分也不会写）。”白强感叹。言语中这位曾经历过互联网泡沫的创始人对年轻人的现状有诸多惋惜，但也无奈，他不得不劝退招来的部分员工。那些习惯了赚快钱的人，早就无法安安稳稳地工作。更有甚者，堂而皇之骚扰女性。7月12日，原火币区块链研究院首席经济师、原东北财经大学副教授闫思博士用极其粗暴露骨的言语侮辱以及性骚扰一名叫“李日言”的女性，随后火币公关部公开承认此事件属实，并宣布公司将对闫思作开除处理。币圈大乱，殃及到服务币圈的公司币圈没有规则，这是猎头张明朗得出的结论。但作为服务币圈的猎头公司，他们得照章办事。一旦面试者成功被聘用，聘用公司可按照以下两种方式付费：第一，收取年薪的20%，一周内付清；第二，收取年薪的22%，一周内付70%，剩下30%三个月内付清。面试者若三个月内离职，猎头公司需要帮助聘用公司找到替代者或者退掉一部分钱。这本是保护猎头收益的方法，但到了币圈，猎头公司有点儿栽跟头。“区块链行业的流失率太高了，互联网平均能待18个月，区块链3、4个月就不错了，火币这样的大公司也就平均半年。互联网行业流失率20%，做10个能成8个，区块链行业流失率80%，做10个成2个就不错了。”如今，没有规则的币圈大乱，殃及到了按规则办事的猎头公司。“我们公司最近的生意也不行，10几个猎头开周会，每周就只发了一个offer，养不活这些人。”张明朗的语气中透露着无奈。泡沫过剩，币价虚高，乱象横生，根源何在？模式和人性，谁之罪有人把矛头指向了ICO。这样的新型融资模式给了更多创业者获得资本青睐的机会。“在股权融资市场，一些项目是拿不到融资的。但到了区块链，一些项目经过包装之后，把之前的积分模式换成通证，就完成了融资。”区块链投资人刘艳武表示。ICO有自己的优点。在股权融资领域，存在A、B、C、D轮的轮次划分。而到了ICO，融资一次性完成，“就是没有中间商赚差价，它是一种平权金融的形态，这是优点”，DFund合伙人杨林苑表示。这样的优点反而成了症结所在。“一般做企业是先苦后甜，而ICO是先甜后苦。这个模式让项目方先实现财富目标，然后再去为这个目标努力，本身就是逆着人性的。”白强表示。“对于V神这种绝对的技术极客、理想主义者，钱无所谓，ICO完成后可以踏实做事，但是绝大部分人不是这样的。”钱一次性到位，人性的缺点再一次暴露了出来。DFund合伙人杨林苑表示，一个初创企业，业务发展还是天使轮的状态，在去年的情况下，他会一下子拿很大一笔的钱。企业在很幼小的情况下，拿到了他所能驾驭的钱，市场是不理性的。泡沫太多，啤酒所剩无几创业者的良莠不齐让行业浑浊不堪。一些创业者原本就不是创投领域的香饽饽，被古典VC抛弃，反而来收割散户们。更有一些小白们新加入了区块链创业，对于创业，他们一知半解。ICO发挥了最大的“善”。这些创业者得到资本垂青，迅速募资得以展现自己的“抱负”，但他们却缺乏合理花钱的能力。同时，它也揭开了人性的黑暗面。为了圈钱前来的创业者们，在ICO的帮助下打开潘多拉的盒子，圈完就跑路，留下哀嚎的散户和一堆空气币。眼下，ICO已全然失控。在Preangel王利杰看来，今天99%的通证（Token）预售（ICO）项目都偏离了区块链社群精神，甚至与区块链社群精神背道而驰，他们封闭、专制、不平等、黑箱操作、自私自利，他们无为也不治。市场狂躁，泡沫越吹越大。他在自己的专栏里写到，区块链是啤酒，ICO是泡沫，疯狂且躁动的投机客们把啤酒瓶晃了又晃，然后打开了瓶盖。啤酒和泡沫被喷的到处都是，瓶中所剩的啤酒也不多了。模式和人性，谁是制造泡沫的高手？或许，ICO天生存在问题。但多位投资人对区块链Truth表示，技术本身是无罪的，只是别有用心的人给技术披上了灰色的外衣，而ICO给人性缺点的爆发提供了温床。不能没Token但是区块链项目一定要ICO么？投资人们意见不一。“我觉得股权融资和ICO在相当长一段时间是共存的，ICO对股权融资是一种补充，但真正要替代的话也有可能。未来如果公司制度都不存在了，股权融资也没有必要了。”DFund合伙人杨林苑表示。一切未可知，但一个明显的趋势是：传统VC都在建立自己的TokenFund，开始投有币区块链；很多TokenFund都在建立自己的法币基金，开始投无币区块链。“TokenFund是对原来的股权融资的一个补充。优秀的团队、和区块链有天然结合属性的项目一定是选择以区块链的方式来运作和募资，不需要走VC繁琐的流程，因为VC的流程比较长、周期长、决策慢，VC倘若没有TokenFund，就会错过一些好的项目。”区块链投资人刘艳武表示。在Preangel王利杰看来，可以没有ICO，但不能没有Token。“既然国家已经定义ICO是非法集资，那么不管是出于什么样的初衷，通过预售通证（Token）给大众老百姓筹集资金的行为就可能会触犯法律。我们要守法，停止向国家公民销售通证（Token）集资（ICO）”。通证有无限魅力但Token却仍然可以通过挖矿来发挥作用。在王利杰看来，通证（Token）项目方如果采用100%挖矿的机制来发行通证（Token），因为没有集资（更没有非法集资），所以也没有资金用于市值管理（币值管理）。这样的场景下，通证（Token）发行价为“零”，但每个人能“挖到”的通证（Token）数量也有限，只要任何两位社群成员私下里交易通证（Token），就会形成一个真正的“市场价格”，这个价格就反应了该社群的“价值共识”。如此，就在一定程度上抑制了虚高的币价。DFund合伙人杨林苑同样看中Token的价值。他给出了两点理由：一、区块链本身是信任机器。没有Token的区块链，还是依赖中心化机制去建立信任，所以还是换汤不换药。这些项目其实不需要区块链，做一个中心化的数据库就好。二、Token构建了大范围的协作机制，是协作的关键要素。区块链项目可以形成千万人的社群，靠的是Token作为奖励机制，驱动大家在一个体系里协作。没有Token，不可能有这样的协作机制，整个生态是长不出来的。吸引创业者杨怀远的也是区块链背后的一整套通证经济。“没有Token的区块链项目和传统的科技类项目没有区别，倘若只谈技术，那就是IBM、万象、阿里这些大公司的事儿，小公司很难做好一个底层技术，创业团队能做的就是靠通证经济打磨出来的新玩法。”Token的价值是投资人和创业者们达成的第一个共识。寒冬未至，洗牌已来第二个共识是：此刻，并非寒冬，寒冬正在来的路上。“95%的人并没经历过寒冬。”DFund合伙人杨林苑表示。如果从跌幅来看，这样的描述不无道理。2018年，比特币价格从18000美元跌到6400美元，跌幅高达64%。2013年底，比特币从1242美元高位暴跌至93美元，83天之内暴跌92.5%。经历大的周期之后，从业者积累的认知尤为宝贵。他们对市场心存敬畏，不会发力过猛，也过早嗅到了寒冬的气息。“是看不见的那只手在起作用，无论是股权还是数字货币，价格和价值不能长期背离，现在就是背离太多了。”DFund合伙人杨林苑表示。从互联网到区块链，每一个新兴技术的发展都存在一个泡沫期。1999年，美国出现了457个IPO，其中117家公司在上市当天股价翻倍。2001年，IPO的数字锐减到76个，而没有一家公司股价上市当天就翻倍。新浪的股价一度跌至每ADS1美元，腾讯进入了最为困难的时期，曾险些把开发出的ICQ软件以60万元的价格卖给深圳电信数据局，但终因价格原因告吹。此刻，正是挤泡沫的时间，从业者迎来大洗牌。“去年能赚钱，很多人不是靠自己的能力，而是靠整个行业发展的红利。现在TokenFund必须有非常严谨的投资逻辑和强大的投后服务能力才能活下来。”DFund合伙人杨林苑表示。洗牌将至，从业者何去何从TokenFund想穿越寒冬，需要不断进化。“第一，要对行业趋势和技术路线图有清晰的认知和判断。第二，要有TokenFinanceService系统级别的竞争力，提高在一级市场的投资管理和二级市场退出效率，因为好的退出比好的投资更重要。第三，要有生态布局，提升整体的抗风险能力。”DFund合伙人杨林苑表示。在白强看来，想穿越寒冬，项目方研发的产品必须要解决刚需。“技术和产品之间存在很大的鸿沟，我是做技术出身，但一个残酷的事实是人类社会需要的还是你的商业模式，你的产品，满足了需求，才会有人买单。”同时，多位投资人联合给项目方提出以下建议：第一，回归合理估值，尽量拿钱，备足粮草。第二，开源节流，不盲目扩张，回归到核心业务单元。第三，要比以往时候更关注收入和现金流，自己能造血，这才是最好的过冬姿势。第四，邀请专业的机构给自己的公司做审计，保证公司合法合规运作。泡沫破，光明至市场给从业者上了生动又深刻的一课，那些经历过周期的人早就做好了准备。环球悦旅会创始人戴政没有任何裁员的打算。短短半个月内，他在朋友圈两次发布招聘需求。“我们没有走一步看一步，而是已经提前规划好了3年、5年的目标，然后倒推战术，觉得可以做到，就创业了。”环球悦旅会专心区块链底层技术，拿的是股权融资。如今，古典VC也早遭遇钱荒，但戴政却一点儿不担心现金流，“去年9月完成天使轮融资，今年3月以后，一直处于不亏损的状态”。即便是最不敏感的创业者也开始采取某种行动获取更多的收益。一位专注于技术的创业者停止了产品开发的进度，他打算接一些外包之类的技术服务项目先活下去。另一家为交易所提供一整套解决方案的公司全然不受外界影响。“我们没有裁员，也没有降薪，公司大部分是技术，都挺稳定的。”一位开发者坦言。黑暗过后，便是光明好的项目依然有人关注，好的团队依然有人注资。9月12日，区块链游戏开发平台Cocos-BCX宣布完成4000万美元融资。其背后团队是《愤怒的小鸟》(AngryBirds)、《荒地》(Badlands)和《国王之战》(ClashofKings)等热门游戏的开创者。在凛冽的寒冬中，融资消息就像一股暖流，让人振奋。好在，寒冬终会过去。2000年，互联网泡沫破灭；2003年，亚马逊、eBay、雅虎三家公司穿越了寒冬，成为了佼佼者，如今，当初险些卖掉的腾讯成长为参天大树，枝繁叶茂。而每一个周期里都会上演相同的故事，一条hypecycle(技术成熟度曲线)囊括了所有的真理。泡沫过后，真相浮现，凛冬之后，万物复苏。对于高端玩家而言，眼下正是积蓄力量的最好时刻。注：应采访对象要求，文中李鸿飞、汤哲、杨怀远、张明朗皆为化名。', 'label': 0}\n"
     ]
    }
   ],
   "source": [
    "tmp = sort_idx[:3]\n",
    "for _ in tmp:\n",
    "    print(cand_passage[_])"
   ]
  },
  {
   "cell_type": "markdown",
   "metadata": {},
   "source": [
    "# Bokeh Visualization"
   ]
  },
  {
   "cell_type": "code",
   "execution_count": 98,
   "metadata": {},
   "outputs": [],
   "source": [
    "from bokeh.plotting import figure, show\n",
    "from bokeh.models import ColumnDataSource\n",
    "from bokeh.models import HoverTool\n",
    "# import bokeh as bp\n",
    "data = {'x_values': [0,1,2],\n",
    "        'y_values': cur_weight[tmp],\n",
    "       'passage':[cand_passage[i]['passage'] for i in tmp],\n",
    "       'label':[cand_passage[i]['label'] for i in tmp]}\n",
    "\n",
    "source = ColumnDataSource(data=data)\n",
    "\n",
    "p = figure(\n",
    "                             tools=\"pan,wheel_zoom,box_zoom,reset,hover,previewsave\",\n",
    "                             x_axis_type=None, y_axis_type=None, min_border=1)\n",
    "p.scatter(x='x_values', y='y_values',\n",
    "                         source=source)\n",
    "hover = p.select(dict(type=HoverTool))\n",
    "hover.tooltips = {\"passage\": \"@passage - label: @label\"}"
   ]
  },
  {
   "cell_type": "code",
   "execution_count": 104,
   "metadata": {},
   "outputs": [],
   "source": [
    "show(p)"
   ]
  }
 ],
 "metadata": {
  "kernelspec": {
   "display_name": "bert",
   "language": "python",
   "name": "bert"
  },
  "language_info": {
   "codemirror_mode": {
    "name": "ipython",
    "version": 3
   },
   "file_extension": ".py",
   "mimetype": "text/x-python",
   "name": "python",
   "nbconvert_exporter": "python",
   "pygments_lexer": "ipython3",
   "version": "3.6.9"
  },
  "toc": {
   "base_numbering": 1,
   "nav_menu": {},
   "number_sections": true,
   "sideBar": true,
   "skip_h1_title": false,
   "title_cell": "Table of Contents",
   "title_sidebar": "Contents",
   "toc_cell": false,
   "toc_position": {},
   "toc_section_display": true,
   "toc_window_display": false
  }
 },
 "nbformat": 4,
 "nbformat_minor": 2
}
